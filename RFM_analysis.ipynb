{
 "cells": [
  {
   "cell_type": "code",
   "execution_count": 2,
   "id": "6352cd69",
   "metadata": {},
   "outputs": [],
   "source": [
    "import numpy as np\n",
    "import pandas as pd\n",
    "import matplotlib.pyplot as plt\n",
    "plt.rc('font', family='Malgun Gothic') # 맑은 고딕으로 글꼴 설정하기\n",
    "import matplotlib as mpl\n",
    "mpl.rcParams['axes.unicode_minus'] = False # 마이너스 기호 문제 해결하기\n",
    "import seaborn as sns\n",
    "from scipy import stats\n",
    "import plotly.express as px"
   ]
  },
  {
   "cell_type": "code",
   "execution_count": 3,
   "id": "81b5ef3e",
   "metadata": {
    "scrolled": true
   },
   "outputs": [
    {
     "name": "stderr",
     "output_type": "stream",
     "text": [
      "C:\\Users\\user\\AppData\\Local\\Temp\\ipykernel_2040\\3390006892.py:1: DtypeWarning: Columns (4) have mixed types. Specify dtype option on import or set low_memory=False.\n",
      "  df = pd.read_csv('미니프로젝트-쇼핑몰 실습데이터 - 2019-01-01 ~ 2019-12-31.csv')\n"
     ]
    }
   ],
   "source": [
    "df = pd.read_csv('미니프로젝트-쇼핑몰 실습데이터 - 2019-01-01 ~ 2019-12-31.csv')\n",
    " \n",
    "# 데이터 값이 개인정보인 데이터행 삭제\n",
    "del df ['제작문구 내역']\n",
    "\n",
    "# 할부기간이 없는 데이터값에 0 값 입력\n",
    "df['할부기간'].fillna(0, inplace=True)"
   ]
  },
  {
   "cell_type": "markdown",
   "id": "1e2edcc2",
   "metadata": {},
   "source": [
    "# 1. 입점 기업별 RFM 분석(3그룹) 진행"
   ]
  },
  {
   "cell_type": "markdown",
   "id": "d5fecd16",
   "metadata": {},
   "source": [
    "### R : 얼마나 최근에 구매했는가 - 2019~2020 / 2021 / 2022 3그룹으로 분류"
   ]
  },
  {
   "cell_type": "code",
   "execution_count": 4,
   "id": "d508a2cf",
   "metadata": {
    "scrolled": true
   },
   "outputs": [
    {
     "data": {
      "text/plain": [
       "array(['2019', '2020', '2021', '2022'], dtype=object)"
      ]
     },
     "execution_count": 4,
     "metadata": {},
     "output_type": "execute_result"
    }
   ],
   "source": [
    "df['월별'] = df['주문일자'].apply(lambda x:str(x).split('-')[1]) # 주문일자 월별 컬럼 추가\n",
    "df['연도별'] = df['주문일자'].apply(lambda x:str(x).split('-')[0]) # 주문일자 연도별 컬럼 추가\n",
    "\n",
    "df['연도별'].unique()"
   ]
  },
  {
   "cell_type": "code",
   "execution_count": 5,
   "id": "afe513de",
   "metadata": {
    "scrolled": true
   },
   "outputs": [],
   "source": [
    "def year(x):\n",
    "    if x == '2022':\n",
    "        return 3 # 가장 높은 점수 3점\n",
    "    elif x == '2021':\n",
    "        return 2 # 중간 점수 2점\n",
    "    else:\n",
    "        return 1 # 가장 낮은 점수 1점\n",
    "    \n",
    "df['R그룹'] = df['연도별'].apply(lambda x:year(x))"
   ]
  },
  {
   "cell_type": "code",
   "execution_count": 8,
   "id": "f34f129b",
   "metadata": {},
   "outputs": [],
   "source": [
    "# df.groupby('업체명')['R그룹'].sum().sort_values(ascending=False)"
   ]
  },
  {
   "cell_type": "code",
   "execution_count": 9,
   "id": "30737c56",
   "metadata": {},
   "outputs": [],
   "source": [
    "# fig = px.pie(df, values='R그룹', names='업체명',\n",
    "#             title='입점 기업별 R분석')\n",
    "# fig.show()"
   ]
  },
  {
   "cell_type": "code",
   "execution_count": 10,
   "id": "a05a1f6d",
   "metadata": {},
   "outputs": [],
   "source": [
    "r = ('다우기술', '지니', '쥬크박스', '에이스디포', '오피스퀵', '한샘글로벌', '와이앤제이', '이선생자석교구', '프린피아', '에어인')\n",
    "df['R'] = df['업체명'].apply(lambda x:x in r)\n",
    "df_r = df[df['R'] == True]"
   ]
  },
  {
   "cell_type": "code",
   "execution_count": 41,
   "id": "855ae76c",
   "metadata": {},
   "outputs": [],
   "source": [
    "# fig = px.pie(df_r, values='R그룹', names='업체명',\n",
    "#             title='입점 기업별 R분석_10기업')\n",
    "# fig.show()"
   ]
  },
  {
   "cell_type": "markdown",
   "id": "480fce4c",
   "metadata": {},
   "source": [
    "### F : 얼마나 자주 구매했는가 - 100 이상 / 50 이상 / 50 미만 3그룹으로 분류 "
   ]
  },
  {
   "cell_type": "code",
   "execution_count": 11,
   "id": "502702bf",
   "metadata": {},
   "outputs": [],
   "source": [
    "df['주문수량'] = df['주문수량'].apply(lambda x:str(x).split(',')[0])\n",
    "df['주문수량'] = df['주문수량'].apply(lambda x:int(x))"
   ]
  },
  {
   "cell_type": "code",
   "execution_count": 12,
   "id": "43bb1be0",
   "metadata": {},
   "outputs": [
    {
     "data": {
      "text/plain": [
       "array([  1,   3,   2,   5,  15,   4,  32,   9,   8,  33,  25,   6,  20,\n",
       "        50,  11,  10,   7,  12, 100,  22, 125,  24,  30,  18,  60,  40,\n",
       "        28,  34,  21,  43,   0,  13,  16, 300, 150,  14,  70,  77,  52,\n",
       "        17, 200,  51,  26,  35,  75,  29,  45,  80,  38, 135,  72,  47,\n",
       "       130,  84,  19, 500, 117, 250,  36,  42,  23,  59,  90, 120,  62,\n",
       "       156, 170,  48,  27,  54,  44,  88,  98,  92,  76,  53,  41,  31,\n",
       "        65,  37,  58,  46, 400,  95,  68,  63, 410, 140,  39,  61,  93,\n",
       "       197, 280, 195, 201,  55,  82,  71, 160,  66, 142, 122,  67,  64,\n",
       "        85, 110,  49, 152], dtype=int64)"
      ]
     },
     "execution_count": 12,
     "metadata": {},
     "output_type": "execute_result"
    }
   ],
   "source": [
    "df['주문수량'].unique()"
   ]
  },
  {
   "cell_type": "code",
   "execution_count": 13,
   "id": "a86a9838",
   "metadata": {},
   "outputs": [],
   "source": [
    "def fre(x):\n",
    "    if x > 100:\n",
    "        return 3 # 가장 높은 점수 3점\n",
    "    elif x > 50:\n",
    "        return 2 # 중간 점수 2점\n",
    "    else:\n",
    "        return 1 # 가장 낮은 점수 1점"
   ]
  },
  {
   "cell_type": "code",
   "execution_count": 14,
   "id": "7313900b",
   "metadata": {
    "scrolled": true
   },
   "outputs": [],
   "source": [
    "df['F그룹'] = df['주문수량'].apply(lambda x:fre(x))"
   ]
  },
  {
   "cell_type": "code",
   "execution_count": 16,
   "id": "5618c5b8",
   "metadata": {},
   "outputs": [],
   "source": [
    "# df.groupby('업체명')['F그룹'].sum().sort_values(ascending=False)"
   ]
  },
  {
   "cell_type": "code",
   "execution_count": 17,
   "id": "b9e1ac51",
   "metadata": {},
   "outputs": [],
   "source": [
    "# fig = px.pie(df, values='F그룹', names='업체명',\n",
    "#             title='입점 기업별 F분석')\n",
    "# fig.show()"
   ]
  },
  {
   "cell_type": "code",
   "execution_count": 18,
   "id": "23b3f45a",
   "metadata": {},
   "outputs": [],
   "source": [
    "f = ('다우기술', '지니', '쥬크박스', '에이스디포', '오피스퀵', '리체', '프린피아', '링커블테크놀러지', '한샘글로벌', '에어인')\n",
    "df['F'] = df['업체명'].apply(lambda x:x in f)\n",
    "df_f = df[df['F'] == True]"
   ]
  },
  {
   "cell_type": "code",
   "execution_count": 19,
   "id": "b67a1408",
   "metadata": {},
   "outputs": [],
   "source": [
    "# fig = px.pie(df_f, values='F그룹', names='업체명',\n",
    "#             title='입점 기업별 F분석_10기업')\n",
    "# fig.show()"
   ]
  },
  {
   "cell_type": "markdown",
   "id": "0dabab7b",
   "metadata": {},
   "source": [
    "### M : 얼마나 많이 지출했는가 - 75% 이상 / 50% 이상 / 50% 미만 3그룹으로 분류"
   ]
  },
  {
   "cell_type": "code",
   "execution_count": 20,
   "id": "8821ce9d",
   "metadata": {},
   "outputs": [],
   "source": [
    "# 주문수량, 판매금액 데이터 인트형으로 변환\n",
    "df['판매금액'] = df['판매금액'].apply(lambda x:x.replace(',', ''))\n",
    "df['판매금액'] = df['판매금액'].apply(lambda x:int(x))\n",
    "\n",
    "df['주문수량'] = df['주문수량'].apply(lambda x:str(x))\n",
    "df['주문수량'] = df['주문수량'].apply(lambda x:x.replace(',', ''))\n",
    "df['주문수량'] = df['주문수량'].apply(lambda x:int(x))\n",
    "\n",
    "df['매출'] = df['주문수량']*df['판매금액']"
   ]
  },
  {
   "cell_type": "code",
   "execution_count": 21,
   "id": "0f745ef8",
   "metadata": {},
   "outputs": [
    {
     "data": {
      "text/plain": [
       "count    2.186010e+05\n",
       "mean     5.275901e+04\n",
       "std      2.211658e+05\n",
       "min      0.000000e+00\n",
       "25%      3.600000e+03\n",
       "50%      9.600000e+03\n",
       "75%      2.790000e+04\n",
       "max      1.980000e+07\n",
       "Name: 판매금액, dtype: float64"
      ]
     },
     "execution_count": 21,
     "metadata": {},
     "output_type": "execute_result"
    }
   ],
   "source": [
    "df['판매금액'].describe()"
   ]
  },
  {
   "cell_type": "code",
   "execution_count": 22,
   "id": "aa9635eb",
   "metadata": {},
   "outputs": [],
   "source": [
    "def pay(x):\n",
    "    if x > 2.790000e+04:\n",
    "        return 3 # 가장 높은 점수 3점\n",
    "    elif x > 9.600000e+03:\n",
    "        return 2 # 중간 점수 2점\n",
    "    else:\n",
    "        return 1 # 가장 낮은 점수 1점"
   ]
  },
  {
   "cell_type": "code",
   "execution_count": 23,
   "id": "ff8d780c",
   "metadata": {
    "scrolled": true
   },
   "outputs": [],
   "source": [
    "df['M그룹'] = df['판매금액'].apply(lambda x:pay(x))"
   ]
  },
  {
   "cell_type": "code",
   "execution_count": 25,
   "id": "94177180",
   "metadata": {},
   "outputs": [],
   "source": [
    "# df.groupby('업체명')['M그룹'].sum().sort_values(ascending=False)"
   ]
  },
  {
   "cell_type": "code",
   "execution_count": 26,
   "id": "62d92a95",
   "metadata": {},
   "outputs": [],
   "source": [
    "# fig = px.pie(df, values='M그룹', names='업체명',\n",
    "#             title='입점 기업별 M분석')\n",
    "# fig.show()"
   ]
  },
  {
   "cell_type": "code",
   "execution_count": 27,
   "id": "729c6243",
   "metadata": {},
   "outputs": [],
   "source": [
    "m = ('다우기술', '지니', '에이스디포', '쥬크박스', '오피스퀵', '링커블테크놀러지', '리체', '한샘글로벌', '프린피아', '에어인')\n",
    "df['M'] = df['업체명'].apply(lambda x:x in m)\n",
    "df_m = df[df['M'] == True]"
   ]
  },
  {
   "cell_type": "code",
   "execution_count": 28,
   "id": "5f87a2b4",
   "metadata": {},
   "outputs": [],
   "source": [
    "# fig = px.pie(df_m, values='M그룹', names='업체명',\n",
    "#             title='입점 기업별 M분석_10기업')\n",
    "# fig.show()"
   ]
  },
  {
   "cell_type": "markdown",
   "id": "6583d662",
   "metadata": {},
   "source": [
    "# 2. 매출 시각화\n",
    "### a. 월별, 연도별 매출\n",
    "### b. 월별 순수익(처리 상황, 할부기간 고려)"
   ]
  },
  {
   "cell_type": "code",
   "execution_count": 29,
   "id": "917c12a7",
   "metadata": {},
   "outputs": [
    {
     "data": {
      "text/plain": [
       "array(['구매확정', '주문취소', '미결제', '후불반려', '환불완료', '환불승인', '부분환불', '부분취소',\n",
       "       '상담취소', '교환완료', '상담형상품접수', '환불요청', '배송완료', '배송준비', '배송중', '시안확인요청',\n",
       "       '결제완료'], dtype=object)"
      ]
     },
     "execution_count": 29,
     "metadata": {},
     "output_type": "execute_result"
    }
   ],
   "source": [
    "df['처리상태'].unique() # 구매확정, 배송완료, 배송중, 결제완료"
   ]
  },
  {
   "cell_type": "code",
   "execution_count": 30,
   "id": "c04b4cb4",
   "metadata": {},
   "outputs": [],
   "source": [
    "a = ('구매확정', '배송완료', '배송중', '결제완료')\n",
    "df['구매'] = df['처리상태'].apply(lambda x:x in a)\n",
    "df2 = df[df['구매'] == True]"
   ]
  },
  {
   "cell_type": "code",
   "execution_count": 31,
   "id": "460ebf6b",
   "metadata": {},
   "outputs": [
    {
     "data": {
      "image/png": "[encoded data removed]",
      "text/plain": [
       "<Figure size 640x480 with 1 Axes>"
      ]
     },
     "metadata": {},
     "output_type": "display_data"
    }
   ],
   "source": [
    "sns.lineplot(data=df2, x='월별', y='매출')\n",
    "plt.show()"
   ]
  },
  {
   "cell_type": "code",
   "execution_count": 32,
   "id": "c9461ed3",
   "metadata": {},
   "outputs": [
    {
     "data": {
      "image/png": "[encoded data removed]",
      "text/plain": [
       "<Figure size 640x480 with 1 Axes>"
      ]
     },
     "metadata": {},
     "output_type": "display_data"
    }
   ],
   "source": [
    "sns.lineplot(data=df2, x='연도별', y='매출')\n",
    "plt.show()"
   ]
  },
  {
   "cell_type": "markdown",
   "id": "a72f1377",
   "metadata": {},
   "source": [
    "# 3. 결제 방법에 따른 분석\n",
    "### a. 결제 방법과 결제금액의 연관성 분석\n",
    "### b. 결제 방법은 맨 앞의 한가지만 사용한 것으로 간주"
   ]
  },
  {
   "cell_type": "code",
   "execution_count": 33,
   "id": "8c3749c4",
   "metadata": {},
   "outputs": [
    {
     "data": {
      "text/plain": [
       "array(['신용카드', '가상계좌', '후불', '무통장입금', nan, '신 + 포', '포인트', '신 + 적',\n",
       "       '신 + 적 + 포', '적 + 포', '웰컴마일', '신 + 웰컴', '적립금', '후 + 포',\n",
       "       '후 + 적 + 포', '후 + 적', '정 + 적', '정 + 적 + 포', '정기결제', '정 + 포',\n",
       "       '현금간편결제', '현 + 포', '현 + 적', '현 + 적 + 포', '-', ' + 포'], dtype=object)"
      ]
     },
     "execution_count": 33,
     "metadata": {},
     "output_type": "execute_result"
    }
   ],
   "source": [
    "df['결제방법'].unique()"
   ]
  },
  {
   "cell_type": "code",
   "execution_count": 34,
   "id": "5a756224",
   "metadata": {},
   "outputs": [],
   "source": [
    "df['결제방법'] = df['결제방법'].apply(lambda x:str(x))\n",
    "df['결제방법_2'] = df['결제방법'].apply(lambda x:x.split(' +')[0])"
   ]
  },
  {
   "cell_type": "code",
   "execution_count": 35,
   "id": "fdc18d0e",
   "metadata": {},
   "outputs": [
    {
     "data": {
      "text/plain": [
       "array(['신용카드', '가상계좌', '후불', '무통장입금', 'nan', '신', '포인트', '적', '웰컴마일',\n",
       "       '적립금', '후', '정', '정기결제', '현금간편결제', '현', '-', ''], dtype=object)"
      ]
     },
     "execution_count": 35,
     "metadata": {},
     "output_type": "execute_result"
    }
   ],
   "source": [
    "df['결제방법_2'].unique()\n",
    "# 신용카드, 가상계좌, 후불, 무통장입금, 포인트, 적립금, 웰컴마일, 정기결제, 현금간편결제"
   ]
  },
  {
   "cell_type": "code",
   "execution_count": 36,
   "id": "fc681f08",
   "metadata": {},
   "outputs": [],
   "source": [
    "def pay_m(x):\n",
    "    if x.startswith('신'):\n",
    "        return ('신용카드')\n",
    "    elif x.startswith('가'):\n",
    "        return ('가상계좌')\n",
    "    elif x.startswith('후'):\n",
    "        return ('후불')\n",
    "    elif x.startswith('무'):\n",
    "        return ('무통장입금')\n",
    "    elif x.startswith('포'):\n",
    "        return ('포인트')\n",
    "    elif x.startswith('적'):\n",
    "        return ('적립금')\n",
    "    elif x.startswith('웰'):\n",
    "        return ('웰컴마일')\n",
    "    elif x.startswith('정'):\n",
    "        return ('정기결제')\n",
    "    elif x.startswith('현'):\n",
    "        return ('현금간편결제')\n",
    "    else:\n",
    "        return ''"
   ]
  },
  {
   "cell_type": "code",
   "execution_count": 38,
   "id": "7ab29e29",
   "metadata": {
    "scrolled": true
   },
   "outputs": [],
   "source": [
    "df['결제방법_2'] = df['결제방법_2'].apply(lambda x:pay_m(x))\n",
    "df3 = df[df['결제방법_2'] != '']"
   ]
  },
  {
   "cell_type": "code",
   "execution_count": 39,
   "id": "a04c57c5",
   "metadata": {},
   "outputs": [
    {
     "data": {
      "image/png": "[encoded data removed]",
      "text/plain": [
       "<Figure size 640x480 with 1 Axes>"
      ]
     },
     "metadata": {},
     "output_type": "display_data"
    }
   ],
   "source": [
    "sns.barplot(data=df3, x='결제방법_2', y='매출')\n",
    "plt.xticks(rotation=90)\n",
    "plt.show()"
   ]
  }
 ],
 "metadata": {
  "kernelspec": {
   "display_name": "Python 3 (ipykernel)",
   "language": "python",
   "name": "python3"
  },
  "language_info": {
   "codemirror_mode": {
    "name": "ipython",
    "version": 3
   },
   "file_extension": ".py",
   "mimetype": "text/x-python",
   "name": "python",
   "nbconvert_exporter": "python",
   "pygments_lexer": "ipython3",
   "version": "3.10.10"
  }
 },
 "nbformat": 4,
 "nbformat_minor": 5
}
